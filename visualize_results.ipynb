{
 "cells": [
  {
   "cell_type": "code",
   "execution_count": 1,
   "metadata": {},
   "outputs": [],
   "source": [
    "import matplotlib.pyplot as plt \n",
    "import pandas as pd\n",
    "import seaborn as sns\n",
    "import os\n",
    "import numpy as np\n",
    "import math"
   ]
  },
  {
   "cell_type": "code",
   "execution_count": 302,
   "metadata": {},
   "outputs": [],
   "source": [
    "def dataframe_of_f1scores(excel_path:str, sheet_name:str, filetype:list, patient_ids=False):\n",
    "    \"\"\"\n",
    "    The function takes in an excel file and creates a list of paths to the wanted file(s) (filetype).\n",
    "    The wanted files are then converted to dataframes, and a singel dataframe containing all the\n",
    "    'f1_scores' in the wanted files is returned.\n",
    "    \n",
    "    \n",
    "    excel_path: path to excel file containing the paths to folders with experiment results\n",
    "    sheet_name: name of the excel sheet you want to create a dataframe of\n",
    "    filetype: filename of the file you want to collect from the result folder\n",
    "    \n",
    "    Returns a dataframe with all of f1_scores for the filetype for a given dataset.\n",
    "    \"\"\"\n",
    "    dataframe = pd.read_excel(excel_path, sheet_name=sheet_name) #Create dataframe of excel sheet\n",
    "    paths = list(dataframe['Result path']) #Get a list of folderpaths were the results are saved\n",
    "    learning_rates = list(dataframe['Learning rate'])\n",
    "    loss_functions = list(dataframe['Loss function'])\n",
    "    file_paths_352 = [] #List of paths for images with dimension 352x352\n",
    "    file_paths_256 = [] #List of paths for images with dimension 256x256\n",
    "    df = pd.DataFrame()\n",
    "    \n",
    "    for file in filetype:\n",
    "        \n",
    "        for i in range(len(paths)):\n",
    "        \n",
    "            if dataframe['Dataset'][0] == 'Oxytarget': #If the dataset is Oxytarget then all the images have the same dimensions.\n",
    "                paths[i] = paths[i] + '/' + file #List of paths for the patient.csv files\n",
    "\n",
    "                if os.path.isfile(paths[i]): #Check if the file path exists\n",
    "                    if df.empty: #Check if the dataframe is empty\n",
    "                        df = pd.read_csv(paths[i]) #Add result to dataframe\n",
    "                        df = df.rename(columns={'f1_score':'{:.0e}'.format(learning_rates[i])+ '+' +loss_functions[i]}) #Rename column\n",
    "                    else:\n",
    "                        #If the dataframe is not empty, add columns with the score from the other results\n",
    "                        df_temp = pd.read_csv(paths[i])\n",
    "                        df = df.join(df_temp.set_index('patient_ids'), on='patient_ids')\n",
    "                        df = df.rename(columns={'f1_score':'{:.0e}'.format(learning_rates[i])+ '+' +loss_functions[i]})\n",
    "\n",
    "            else: #For other datasets the images are of two different dimensions\n",
    "                if file.endswith('352.csv'):\n",
    "                    file_paths_352.append(str(paths[i]) + '/' + file)\n",
    "                else:\n",
    "                    file_paths_256.append(str(paths[i]) + '/' + file)\n",
    "                \n",
    "    if not dataframe['Dataset'][0] == 'Oxytarget':\n",
    "        for i in range(len(file_paths_352)):\n",
    "            if os.path.isfile(file_paths_352[i]) and os.path.isfile(file_paths_256[i]):\n",
    "\n",
    "                if df.empty: #Check if the dataframe is empty\n",
    "                    df_352 = pd.read_csv(file_paths_352[i])\n",
    "                    df_256 = pd.read_csv(file_paths_256[i])\n",
    "                    df = df_352.append(df_256, ignore_index=True)\n",
    "                    df = df.rename(columns={'f1_score':'{:.0e}'.format(learning_rates[i])+ '+' +loss_functions[i]}) #Rename column\n",
    "                   \n",
    "                else:\n",
    "                    #If the dataframe is not empty, add columns with the score from the other results\n",
    "                    df_352 = pd.read_csv(file_paths_352[i])\n",
    "                    df_256 = pd.read_csv(file_paths_256[i])\n",
    "                    df_temp = df_352.append(df_256, ignore_index=True)\n",
    "                    df = df.join(df_temp.set_index('patient_ids'), on='patient_ids')\n",
    "                    df = df.rename(columns={'f1_score':'{:.0e}'.format(learning_rates[i])+ '+' +loss_functions[i]}) #Rename column\n",
    "    \n",
    "    if not patient_ids:\n",
    "        df = df.drop(['patient_ids'], axis=1)\n",
    "    \n",
    "    return df"
   ]
  },
  {
   "cell_type": "code",
   "execution_count": 235,
   "metadata": {},
   "outputs": [],
   "source": [
    "def swap_columns(df, c1, c2):\n",
    "    \"\"\"\n",
    "    The function swaps the position of two columns (c1 and c2) in a dataframe (df).\n",
    "    Returns new dataframe with swapped columns.\n",
    "    \"\"\"\n",
    "    df['temp'] = df[c1]\n",
    "    df[c1] = df[c2]\n",
    "    df[c2] = df['temp']\n",
    "    df.drop(columns=['temp'], inplace=True)\n",
    "    df = df.rename(columns={c1:c2, c2:c1})\n",
    "    return df"
   ]
  },
  {
   "cell_type": "code",
   "execution_count": 283,
   "metadata": {},
   "outputs": [],
   "source": [
    "def boxplot(dataframe, order):\n",
    "    \"\"\"\n",
    "    The function creates boxplots based on learning rates and loss functions\n",
    "    \"\"\"\n",
    "    \n",
    "    plt.figure()\n",
    "    g = sns.FacetGrid(dataframe, col='Learning rate', row='Loss function', margin_titles=True)\n",
    "    g.map(sns.boxplot,'Data', 'value', order=order, palette=['skyblue','orange','mediumseagreen'])\n",
    "    g.fig.subplots_adjust(wspace=.05, hspace=.05)\n",
    "    \n",
    "    # Iterate thorugh each axis\n",
    "    for ax in g.axes.flat:\n",
    "        # Make x and y-axis labels slightly larger\n",
    "        ax.set_xlabel(ax.get_xlabel(), fontsize='x-large')\n",
    "        ax.set_ylabel(ax.get_ylabel(), fontsize='x-large')\n",
    "\n",
    "        # Make title more human-readable and larger\n",
    "        if ax.get_title():\n",
    "            ax.set_title(ax.get_title().split('=')[1],\n",
    "                         fontsize='x-large')\n",
    "        \n",
    "        # Make right ylabel more human-readable and larger\n",
    "        # Only the 2nd and 4th axes have something in ax.texts\n",
    "        if ax.texts:\n",
    "            # This contains the right ylabel text\n",
    "            txt = ax.texts[0]\n",
    "            ax.text(txt.get_unitless_position()[0], txt.get_unitless_position()[1],\n",
    "                    txt.get_text().split('=')[1],\n",
    "                    transform=ax.transAxes,\n",
    "                    va='center',\n",
    "                    fontsize='x-large')\n",
    "            # Remove the original text\n",
    "            ax.texts[0].remove()\n",
    "            \n",
    "    g.set_xticklabels(rotation=30)\n",
    "    g.set_axis_labels('', 'DSC')\n",
    "    g.set(ylim=(-0.05,1.05))\n",
    "    plt.show()\n",
    "    \n",
    "    plt.show()"
   ]
  },
  {
   "cell_type": "markdown",
   "metadata": {},
   "source": [
    "## Boxplots"
   ]
  },
  {
   "cell_type": "code",
   "execution_count": 292,
   "metadata": {},
   "outputs": [],
   "source": [
    "def main():\n",
    "    \n",
    "    excel_path = '/Volumes/LaCie/MasterThesis_Ingvild/Excel_data/Experiment_plan.xlsx'\n",
    "    \n",
    "    #Creating dataframes of det f1 scores of the validation patients\n",
    "    Oxy = dataframe_of_f1scores(excel_path, 'Oxy', ['patient.csv'])\n",
    "    LARC = dataframe_of_f1scores(excel_path, 'LARC',['patient_352.csv','patient_256.csv'])\n",
    "    Combined = dataframe_of_f1scores(excel_path, 'Combined',['patient_352.csv','patient_256.csv'])\n",
    "    \n",
    "    LARC = LARC[LARC.columns[:-2]]\n",
    "\n",
    "    \n",
    "    #Creating dictionary of dataframes\n",
    "    dictionary = {'OxyTarget': Oxy, 'LARC-RRP': LARC, 'Combined': Combined}\n",
    "    \n",
    "    #Column-names to be swapped\n",
    "    col_names = list(Oxy.columns)\n",
    "    \n",
    "    for key in dictionary:\n",
    "        \n",
    "        #Swapping order of columns\n",
    "        dictionary[key] = swap_columns(dictionary[key], col_names[1], col_names[0])\n",
    "        dictionary[key] = swap_columns(dictionary[key], col_names[4], col_names[3])\n",
    "        \n",
    "        #Re-organize the dataframe\n",
    "        dictionary[key]['Data'] = key\n",
    "    \n",
    "    #Create one dataframe with all the datasets\n",
    "    df = pd.concat([dictionary['OxyTarget'], dictionary['LARC-RRP'], dictionary['Combined']])\n",
    "    df = pd.melt(df, id_vars=['Data'], var_name=['Parameters'])\n",
    "    df[['Learning rate','Loss function']] = df.Parameters.apply(lambda x: pd.Series(str(x).split(\"+\")))\n",
    "    \n",
    "    #Plot as boxplots\n",
    "    order = ['OxyTarget','LARC-RRP','Combined']\n",
    "    boxplot(df, order)\n",
    "    "
   ]
  },
  {
   "cell_type": "code",
   "execution_count": 293,
   "metadata": {},
   "outputs": [
    {
     "data": {
      "text/plain": [
       "<Figure size 432x288 with 0 Axes>"
      ]
     },
     "metadata": {},
     "output_type": "display_data"
    },
    {
     "data": {
      "image/png": "[encoded data removed]",
      "text/plain": [
       "<Figure size 648x432 with 6 Axes>"
      ]
     },
     "metadata": {
      "needs_background": "light"
     },
     "output_type": "display_data"
    }
   ],
   "source": [
    "main()"
   ]
  },
  {
   "cell_type": "markdown",
   "metadata": {},
   "source": [
    "## Scatter plots"
   ]
  },
  {
   "cell_type": "code",
   "execution_count": 330,
   "metadata": {},
   "outputs": [],
   "source": [
    "def scatterplot(dataframe, x_value, y_value, hue=None):\n",
    "    plt.figure()\n",
    "    sns.scatterplot(data=dataframe, x=x_value, y=y_value, hue=hue, palette='deep')\n",
    "    plt.ylabel('DSC')\n",
    "    plt.xlabel('Patient IDs')\n",
    "    plt.ylim(-0.05,1.05)\n",
    "    plt.show()"
   ]
  },
  {
   "cell_type": "code",
   "execution_count": 337,
   "metadata": {},
   "outputs": [
    {
     "name": "stderr",
     "output_type": "stream",
     "text": [
      "<ipython-input-337-717e7502f15d>:4: SettingWithCopyWarning: \n",
      "A value is trying to be set on a copy of a slice from a DataFrame\n",
      "\n",
      "See the caveats in the documentation: https://pandas.pydata.org/pandas-docs/stable/user_guide/indexing.html#returning-a-view-versus-a-copy\n",
      "  LARC['Dimension'][10:] = 256\n",
      "/Users/ingvild/opt/anaconda3/lib/python3.8/site-packages/pandas/core/indexing.py:670: SettingWithCopyWarning: \n",
      "A value is trying to be set on a copy of a slice from a DataFrame\n",
      "\n",
      "See the caveats in the documentation: https://pandas.pydata.org/pandas-docs/stable/user_guide/indexing.html#returning-a-view-versus-a-copy\n",
      "  iloc._setitem_with_indexer(indexer, value)\n"
     ]
    },
    {
     "data": {
      "image/png": "[encoded data removed]",
      "text/plain": [
       "<Figure size 432x288 with 1 Axes>"
      ]
     },
     "metadata": {
      "needs_background": "light"
     },
     "output_type": "display_data"
    }
   ],
   "source": [
    "excel_path = '/Volumes/LaCie/MasterThesis_Ingvild/Excel_data/Experiment_plan.xlsx'\n",
    "LARC = LARC = dataframe_of_f1scores(excel_path, 'LARC',['patient_352.csv','patient_256.csv'], patient_ids=True)\n",
    "LARC['Dimension'] = 352\n",
    "LARC['Dimension'][10:] = 256\n",
    "scatterplot(LARC, 'patient_ids', '1e-03+dice', hue='Dimension')"
   ]
  },
  {
   "cell_type": "code",
   "execution_count": null,
   "metadata": {},
   "outputs": [],
   "source": []
  },
  {
   "cell_type": "code",
   "execution_count": null,
   "metadata": {},
   "outputs": [],
   "source": []
  }
 ],
 "metadata": {
  "kernelspec": {
   "display_name": "Python 3",
   "language": "python",
   "name": "python3"
  },
  "language_info": {
   "codemirror_mode": {
    "name": "ipython",
    "version": 3
   },
   "file_extension": ".py",
   "mimetype": "text/x-python",
   "name": "python",
   "nbconvert_exporter": "python",
   "pygments_lexer": "ipython3",
   "version": "3.8.5"
  }
 },
 "nbformat": 4,
 "nbformat_minor": 4
}
