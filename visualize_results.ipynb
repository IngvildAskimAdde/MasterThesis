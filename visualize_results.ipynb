{
 "cells": [
  {
   "cell_type": "code",
   "execution_count": 338,
   "metadata": {},
   "outputs": [],
   "source": [
    "import matplotlib.pyplot as plt \n",
    "import pandas as pd\n",
    "import seaborn as sns\n",
    "import os\n",
    "import numpy as np\n",
    "import math"
   ]
  },
  {
   "cell_type": "code",
   "execution_count": 339,
   "metadata": {},
   "outputs": [],
   "source": [
    "def dataframe_of_f1scores(excel_path:str, sheet_name:str, filetype:list, patient_ids=False):\n",
    "    \"\"\"\n",
    "    The function takes in an excel file and creates a list of paths to the wanted file(s) (filetype).\n",
    "    The wanted files are then converted to dataframes, and a singel dataframe containing all the\n",
    "    'f1_scores' in the wanted files is returned.\n",
    "    \n",
    "    \n",
    "    excel_path: path to excel file containing the paths to folders with experiment results\n",
    "    sheet_name: name of the excel sheet you want to create a dataframe of\n",
    "    filetype: filename of the file you want to collect from the result folder\n",
    "    \n",
    "    Returns a dataframe with all of f1_scores for the filetype for a given dataset.\n",
    "    \"\"\"\n",
    "    dataframe = pd.read_excel(excel_path, sheet_name=sheet_name) #Create dataframe of excel sheet\n",
    "    paths = list(dataframe['Result path']) #Get a list of folderpaths were the results are saved\n",
    "    learning_rates = list(dataframe['Learning rate'])\n",
    "    loss_functions = list(dataframe['Loss function'])\n",
    "    file_paths_352 = [] #List of paths for images with dimension 352x352\n",
    "    file_paths_256 = [] #List of paths for images with dimension 256x256\n",
    "    df = pd.DataFrame()\n",
    "    \n",
    "    for file in filetype:\n",
    "        \n",
    "        for i in range(len(paths)):\n",
    "        \n",
    "            if dataframe['Dataset'][0] == 'Oxytarget': #If the dataset is Oxytarget then all the images have the same dimensions.\n",
    "                paths[i] = paths[i] + '/' + file #List of paths for the patient.csv files\n",
    "\n",
    "                if os.path.isfile(paths[i]): #Check if the file path exists\n",
    "                    if df.empty: #Check if the dataframe is empty\n",
    "                        df = pd.read_csv(paths[i]) #Add result to dataframe\n",
    "                        df = df.rename(columns={'f1_score':'{:.0e}'.format(learning_rates[i])+ '+' +loss_functions[i]}) #Rename column\n",
    "                    else:\n",
    "                        #If the dataframe is not empty, add columns with the score from the other results\n",
    "                        df_temp = pd.read_csv(paths[i])\n",
    "                        df = df.join(df_temp.set_index('patient_ids'), on='patient_ids')\n",
    "                        df = df.rename(columns={'f1_score':'{:.0e}'.format(learning_rates[i])+ '+' +loss_functions[i]})\n",
    "\n",
    "            else: #For other datasets the images are of two different dimensions\n",
    "                if file.endswith('352.csv'):\n",
    "                    file_paths_352.append(str(paths[i]) + '/' + file)\n",
    "                else:\n",
    "                    file_paths_256.append(str(paths[i]) + '/' + file)\n",
    "                \n",
    "    if not dataframe['Dataset'][0] == 'Oxytarget':\n",
    "        for i in range(len(file_paths_352)):\n",
    "            if os.path.isfile(file_paths_352[i]) and os.path.isfile(file_paths_256[i]):\n",
    "\n",
    "                if df.empty: #Check if the dataframe is empty\n",
    "                    df_352 = pd.read_csv(file_paths_352[i])\n",
    "                    df_256 = pd.read_csv(file_paths_256[i])\n",
    "                    df = df_352.append(df_256, ignore_index=True)\n",
    "                    df = df.rename(columns={'f1_score':'{:.0e}'.format(learning_rates[i])+ '+' +loss_functions[i]}) #Rename column\n",
    "                   \n",
    "                else:\n",
    "                    #If the dataframe is not empty, add columns with the score from the other results\n",
    "                    df_352 = pd.read_csv(file_paths_352[i])\n",
    "                    df_256 = pd.read_csv(file_paths_256[i])\n",
    "                    df_temp = df_352.append(df_256, ignore_index=True)\n",
    "                    df = df.join(df_temp.set_index('patient_ids'), on='patient_ids')\n",
    "                    df = df.rename(columns={'f1_score':'{:.0e}'.format(learning_rates[i])+ '+' +loss_functions[i]}) #Rename column\n",
    "    \n",
    "    if not patient_ids:\n",
    "        df = df.drop(['patient_ids'], axis=1)\n",
    "    \n",
    "    return df"
   ]
  },
  {
   "cell_type": "code",
   "execution_count": 340,
   "metadata": {},
   "outputs": [],
   "source": [
    "def swap_columns(df, c1, c2):\n",
    "    \"\"\"\n",
    "    The function swaps the position of two columns (c1 and c2) in a dataframe (df).\n",
    "    Returns new dataframe with swapped columns.\n",
    "    \"\"\"\n",
    "    df['temp'] = df[c1]\n",
    "    df[c1] = df[c2]\n",
    "    df[c2] = df['temp']\n",
    "    df.drop(columns=['temp'], inplace=True)\n",
    "    df = df.rename(columns={c1:c2, c2:c1})\n",
    "    return df"
   ]
  },
  {
   "cell_type": "code",
   "execution_count": 341,
   "metadata": {},
   "outputs": [],
   "source": [
    "def boxplot(dataframe, order):\n",
    "    \"\"\"\n",
    "    The function creates boxplots based on learning rates and loss functions\n",
    "    \"\"\"\n",
    "    \n",
    "    plt.figure()\n",
    "    g = sns.FacetGrid(dataframe, col='Learning rate', row='Loss function', margin_titles=True)\n",
    "    g.map(sns.boxplot,'Data', 'value', order=order, palette=['skyblue','orange','mediumseagreen'])\n",
    "    g.fig.subplots_adjust(wspace=.05, hspace=.05)\n",
    "    \n",
    "    # Iterate thorugh each axis\n",
    "    for ax in g.axes.flat:\n",
    "        # Make x and y-axis labels slightly larger\n",
    "        ax.set_xlabel(ax.get_xlabel(), fontsize='x-large')\n",
    "        ax.set_ylabel(ax.get_ylabel(), fontsize='x-large')\n",
    "\n",
    "        # Make title more human-readable and larger\n",
    "        if ax.get_title():\n",
    "            ax.set_title(ax.get_title().split('=')[1],\n",
    "                         fontsize='x-large')\n",
    "        \n",
    "        # Make right ylabel more human-readable and larger\n",
    "        # Only the 2nd and 4th axes have something in ax.texts\n",
    "        if ax.texts:\n",
    "            # This contains the right ylabel text\n",
    "            txt = ax.texts[0]\n",
    "            ax.text(txt.get_unitless_position()[0], txt.get_unitless_position()[1],\n",
    "                    txt.get_text().split('=')[1],\n",
    "                    transform=ax.transAxes,\n",
    "                    va='center',\n",
    "                    fontsize='x-large')\n",
    "            # Remove the original text\n",
    "            ax.texts[0].remove()\n",
    "            \n",
    "    g.set_xticklabels(rotation=30)\n",
    "    g.set_axis_labels('', 'DSC')\n",
    "    g.set(ylim=(-0.05,1.05))\n",
    "    plt.show()\n",
    "    \n",
    "    plt.show()"
   ]
  },
  {
   "cell_type": "markdown",
   "metadata": {},
   "source": [
    "## Boxplots"
   ]
  },
  {
   "cell_type": "code",
   "execution_count": 342,
   "metadata": {},
   "outputs": [],
   "source": [
    "def main():\n",
    "    \n",
    "    excel_path = '/Volumes/LaCie/MasterThesis_Ingvild/Excel_data/Experiment_plan.xlsx'\n",
    "    \n",
    "    #Creating dataframes of det f1 scores of the validation patients\n",
    "    Oxy = dataframe_of_f1scores(excel_path, 'Oxy', ['patient.csv'])\n",
    "    LARC = dataframe_of_f1scores(excel_path, 'LARC',['patient_352.csv','patient_256.csv'])\n",
    "    Combined = dataframe_of_f1scores(excel_path, 'Combined',['patient_352.csv','patient_256.csv'])\n",
    "    \n",
    "    LARC = LARC[LARC.columns[:-2]]\n",
    "\n",
    "    \n",
    "    #Creating dictionary of dataframes\n",
    "    dictionary = {'OxyTarget': Oxy, 'LARC-RRP': LARC, 'Combined': Combined}\n",
    "    \n",
    "    #Column-names to be swapped\n",
    "    col_names = list(Oxy.columns)\n",
    "    \n",
    "    for key in dictionary:\n",
    "        \n",
    "        #Swapping order of columns\n",
    "        dictionary[key] = swap_columns(dictionary[key], col_names[1], col_names[0])\n",
    "        dictionary[key] = swap_columns(dictionary[key], col_names[4], col_names[3])\n",
    "        \n",
    "        #Re-organize the dataframe\n",
    "        dictionary[key]['Data'] = key\n",
    "    \n",
    "    #Create one dataframe with all the datasets\n",
    "    df = pd.concat([dictionary['OxyTarget'], dictionary['LARC-RRP'], dictionary['Combined']])\n",
    "    df = pd.melt(df, id_vars=['Data'], var_name=['Parameters'])\n",
    "    df[['Learning rate','Loss function']] = df.Parameters.apply(lambda x: pd.Series(str(x).split(\"+\")))\n",
    "    \n",
    "    #Plot as boxplots\n",
    "    order = ['OxyTarget','LARC-RRP','Combined']\n",
    "    boxplot(df, order)\n",
    "    "
   ]
  },
  {
   "cell_type": "code",
   "execution_count": 343,
   "metadata": {},
   "outputs": [
    {
     "data": {
      "text/plain": [
       "<Figure size 432x288 with 0 Axes>"
      ]
     },
     "metadata": {},
     "output_type": "display_data"
    },
    {
     "data": {
      "image/png": "[encoded data removed]",
      "text/plain": [
       "<Figure size 648x432 with 6 Axes>"
      ]
     },
     "metadata": {
      "needs_background": "light"
     },
     "output_type": "display_data"
    }
   ],
   "source": [
    "main()"
   ]
  },
  {
   "cell_type": "markdown",
   "metadata": {},
   "source": [
    "## Scatter plots"
   ]
  },
  {
   "cell_type": "code",
   "execution_count": 386,
   "metadata": {},
   "outputs": [],
   "source": [
    "def scatterplot(dataframe, x_value, y_value, hue=None, save=False):\n",
    "    fig = plt.figure(figsize=(11,8))\n",
    "    sns.scatterplot(data=dataframe, x=x_value, y=y_value, hue=hue, palette='deep')\n",
    "    plt.ylabel('DSC')\n",
    "    plt.xlabel('Patient IDs')\n",
    "    plt.title('Dataset: Combined, Learning rate: 0.00001')\n",
    "    plt.ylim(-0.05,1.05)\n",
    "    plt.show()\n",
    "    \n",
    "    if save:\n",
    "        fig.savefig('scatter_Combined_ID_6.pdf')"
   ]
  },
  {
   "cell_type": "code",
   "execution_count": 387,
   "metadata": {},
   "outputs": [
    {
     "name": "stderr",
     "output_type": "stream",
     "text": [
      "<ipython-input-387-03187390a670>:4: SettingWithCopyWarning: \n",
      "A value is trying to be set on a copy of a slice from a DataFrame\n",
      "\n",
      "See the caveats in the documentation: https://pandas.pydata.org/pandas-docs/stable/user_guide/indexing.html#returning-a-view-versus-a-copy\n",
      "  Combined['Dimension'][26:] = 256\n",
      "/Users/ingvild/opt/anaconda3/lib/python3.8/site-packages/pandas/core/indexing.py:670: SettingWithCopyWarning: \n",
      "A value is trying to be set on a copy of a slice from a DataFrame\n",
      "\n",
      "See the caveats in the documentation: https://pandas.pydata.org/pandas-docs/stable/user_guide/indexing.html#returning-a-view-versus-a-copy\n",
      "  iloc._setitem_with_indexer(indexer, value)\n"
     ]
    },
    {
     "name": "stdout",
     "output_type": "stream",
     "text": [
      "    patient_ids    1e-04+dice    1e-03+dice    1e-05+dice  \\\n",
      "0           8.0  3.742796e-01  4.586493e-01  3.168455e-01   \n",
      "1          10.0  3.824719e-01  3.162307e-01  4.575202e-01   \n",
      "2          33.0  1.482200e-01  1.273156e-01  7.769662e-02   \n",
      "3          48.0  3.509996e-01  4.041166e-01  4.164535e-01   \n",
      "4          54.0  4.541155e-01  4.588831e-01  3.141851e-01   \n",
      "5          64.0  1.849959e-01  3.257951e-01  7.187295e-02   \n",
      "6          73.0  3.571896e-01  4.558449e-01  1.755793e-01   \n",
      "7          80.0  6.356998e-01  6.698123e-01  5.278915e-01   \n",
      "8          90.0  3.550093e-01  4.452312e-01  2.035720e-01   \n",
      "9          91.0  7.182102e-14  6.426570e-14  6.940974e-14   \n",
      "10       1115.0  6.850677e-01  7.025625e-01  7.101163e-01   \n",
      "11       1121.0  7.360561e-01  6.678380e-01  6.321875e-01   \n",
      "12       1122.0  5.763660e-01  4.380303e-01  4.175091e-01   \n",
      "13       1124.0  6.723814e-02  1.161710e-01  1.917404e-01   \n",
      "14       1133.0  6.986026e-01  6.368142e-01  6.447318e-01   \n",
      "15       1138.0  6.008436e-01  3.575748e-01  3.974790e-01   \n",
      "16       1162.0  8.144650e-01  7.394438e-01  7.432925e-01   \n",
      "17       1163.0  7.369387e-01  6.486211e-01  6.678807e-01   \n",
      "18       1164.0  7.454374e-01  6.365654e-01  6.294304e-01   \n",
      "19       1184.0  7.366679e-01  7.234215e-01  6.463515e-01   \n",
      "20       1028.0  7.103359e-01  5.829880e-01  6.517527e-01   \n",
      "21       1043.0  6.975991e-01  5.848843e-01  6.186618e-01   \n",
      "22       1061.0  6.865343e-01  7.383375e-01  6.708286e-01   \n",
      "23       1069.0  3.861100e-01  1.285516e-01  1.965313e-01   \n",
      "24       1074.0  7.399865e-01  7.252844e-01  6.276209e-01   \n",
      "25       1094.0  5.585743e-01  6.239690e-01  5.178222e-01   \n",
      "26         11.0  4.239783e-01  3.093512e-01  2.009957e-01   \n",
      "27         13.0  1.049979e-12  4.750399e-02  4.270584e-13   \n",
      "28         14.0  4.873294e-12  3.990423e-12  2.075766e-03   \n",
      "\n",
      "    1e-04+modified dice  1e-03+modified dice  1e-05+modified dice  Dimension  \n",
      "0          4.408391e-01         3.324185e-01         2.493076e-01        352  \n",
      "1          3.082323e-01         4.998454e-01         5.196749e-01        352  \n",
      "2          4.225245e-01         1.566144e-01         5.864647e-02        352  \n",
      "3          5.298849e-01         4.235855e-01         2.769091e-01        352  \n",
      "4          5.023147e-01         3.238866e-01         1.701855e-01        352  \n",
      "5          3.467823e-01         3.047469e-01         3.052093e-02        352  \n",
      "6          5.089907e-01         2.709264e-01         2.223990e-01        352  \n",
      "7          6.449558e-01         5.731820e-01         4.620043e-01        352  \n",
      "8          4.832860e-01         3.272501e-01         1.171520e-01        352  \n",
      "9          7.182257e-14         7.197248e-14         6.937049e-02        352  \n",
      "10         5.762802e-01         7.235402e-01         7.414332e-01        352  \n",
      "11         6.254730e-01         6.926109e-01         6.359763e-01        352  \n",
      "12         4.037578e-01         5.786320e-01         6.546173e-01        352  \n",
      "13         1.145956e-01         2.231157e-01         4.041001e-01        352  \n",
      "14         5.534787e-01         6.436313e-01         7.060055e-01        352  \n",
      "15         5.521803e-01         4.665200e-01         4.144359e-01        352  \n",
      "16         7.023221e-01         7.945181e-01         7.831448e-01        352  \n",
      "17         7.635345e-01         7.616076e-01         5.845305e-01        352  \n",
      "18         6.415114e-01         6.036966e-01         6.692083e-01        352  \n",
      "19         6.568666e-01         6.706577e-01         6.988339e-01        352  \n",
      "20         5.618615e-01         6.304051e-01         7.533531e-01        352  \n",
      "21         5.266956e-01         5.895721e-01         6.068652e-01        352  \n",
      "22         7.056662e-01         7.228709e-01         7.589254e-01        352  \n",
      "23         6.689772e-02         2.699505e-01         3.792586e-01        352  \n",
      "24         4.728552e-01         7.535293e-01         6.398461e-01        352  \n",
      "25         6.145980e-01         6.100816e-01         5.994349e-01        352  \n",
      "26         1.284757e-01         4.072509e-01         4.132245e-01        256  \n",
      "27         2.371354e-12         3.678161e-01         7.914480e-03        256  \n",
      "28         4.837930e-12         1.468462e-01         4.531037e-12        256  \n"
     ]
    },
    {
     "data": {
      "image/png": "[encoded data removed]",
      "text/plain": [
       "<Figure size 792x576 with 1 Axes>"
      ]
     },
     "metadata": {
      "needs_background": "light"
     },
     "output_type": "display_data"
    }
   ],
   "source": [
    "excel_path = '/Volumes/LaCie/MasterThesis_Ingvild/Excel_data/Experiment_plan.xlsx'\n",
    "Combined = dataframe_of_f1scores(excel_path, 'Combined',['patient_352.csv','patient_256.csv'], patient_ids=True)\n",
    "Combined['Dimension'] = 352\n",
    "Combined['Dimension'][26:] = 256\n",
    "print(Combined)\n",
    "scatterplot(Combined, 'patient_ids', '1e-05+modified dice', hue='Dimension',save=True)"
   ]
  },
  {
   "cell_type": "code",
   "execution_count": null,
   "metadata": {},
   "outputs": [],
   "source": []
  },
  {
   "cell_type": "code",
   "execution_count": null,
   "metadata": {},
   "outputs": [],
   "source": []
  }
 ],
 "metadata": {
  "kernelspec": {
   "display_name": "Python 3",
   "language": "python",
   "name": "python3"
  },
  "language_info": {
   "codemirror_mode": {
    "name": "ipython",
    "version": 3
   },
   "file_extension": ".py",
   "mimetype": "text/x-python",
   "name": "python",
   "nbconvert_exporter": "python",
   "pygments_lexer": "ipython3",
   "version": "3.8.5"
  }
 },
 "nbformat": 4,
 "nbformat_minor": 4
}
